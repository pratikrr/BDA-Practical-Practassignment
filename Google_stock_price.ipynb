{
  "nbformat": 4,
  "nbformat_minor": 0,
  "metadata": {
    "kernelspec": {
      "display_name": "Python 3",
      "language": "python",
      "name": "python3"
    },
    "language_info": {
      "codemirror_mode": {
        "name": "ipython",
        "version": 3
      },
      "file_extension": ".py",
      "mimetype": "text/x-python",
      "name": "python",
      "nbconvert_exporter": "python",
      "pygments_lexer": "ipython3",
      "version": "3.7.6"
    },
    "colab": {
      "name": "Google stock price.ipynb",
      "provenance": [],
      "collapsed_sections": []
    }
  },
  "cells": [
    {
      "cell_type": "code",
      "metadata": {
        "id": "Kio5eLv31nCJ"
      },
      "source": [
        "import numpy as np \n",
        "import pandas as pd \n",
        "import matplotlib.pyplot as plt \n",
        "from sklearn.preprocessing import MinMaxScaler\n",
        "from keras.models import Sequential\n",
        "from keras.layers import Dense,LSTM,Dropout"
      ],
      "execution_count": null,
      "outputs": []
    },
    {
      "cell_type": "code",
      "metadata": {
        "colab": {
          "base_uri": "https://localhost:8080/",
          "height": 237
        },
        "id": "IpsaLAJe1nCK",
        "outputId": "4f014575-a501-4296-bc18-b18b95f128c2"
      },
      "source": [
        "%cd ..\n",
        "from google.colab import drive\n",
        "drive.mount('/content/gdrive')\n",
        "\n",
        "data=pd.read_csv('/content/gdrive/MyDrive/DatasetPratik/Google_train_data.csv')\n",
        "data.head()"
      ],
      "execution_count": null,
      "outputs": [
        {
          "output_type": "stream",
          "text": [
            "/\n",
            "Mounted at /content/gdrive\n"
          ],
          "name": "stdout"
        },
        {
          "output_type": "execute_result",
          "data": {
            "text/html": [
              "<div>\n",
              "<style scoped>\n",
              "    .dataframe tbody tr th:only-of-type {\n",
              "        vertical-align: middle;\n",
              "    }\n",
              "\n",
              "    .dataframe tbody tr th {\n",
              "        vertical-align: top;\n",
              "    }\n",
              "\n",
              "    .dataframe thead th {\n",
              "        text-align: right;\n",
              "    }\n",
              "</style>\n",
              "<table border=\"1\" class=\"dataframe\">\n",
              "  <thead>\n",
              "    <tr style=\"text-align: right;\">\n",
              "      <th></th>\n",
              "      <th>Date</th>\n",
              "      <th>Open</th>\n",
              "      <th>High</th>\n",
              "      <th>Low</th>\n",
              "      <th>Close</th>\n",
              "      <th>Volume</th>\n",
              "    </tr>\n",
              "  </thead>\n",
              "  <tbody>\n",
              "    <tr>\n",
              "      <th>0</th>\n",
              "      <td>1/3/2012</td>\n",
              "      <td>325.25</td>\n",
              "      <td>332.83</td>\n",
              "      <td>324.97</td>\n",
              "      <td>663.59</td>\n",
              "      <td>7,380,500</td>\n",
              "    </tr>\n",
              "    <tr>\n",
              "      <th>1</th>\n",
              "      <td>1/4/2012</td>\n",
              "      <td>331.27</td>\n",
              "      <td>333.87</td>\n",
              "      <td>329.08</td>\n",
              "      <td>666.45</td>\n",
              "      <td>5,749,400</td>\n",
              "    </tr>\n",
              "    <tr>\n",
              "      <th>2</th>\n",
              "      <td>1/5/2012</td>\n",
              "      <td>329.83</td>\n",
              "      <td>330.75</td>\n",
              "      <td>326.89</td>\n",
              "      <td>657.21</td>\n",
              "      <td>6,590,300</td>\n",
              "    </tr>\n",
              "    <tr>\n",
              "      <th>3</th>\n",
              "      <td>1/6/2012</td>\n",
              "      <td>328.34</td>\n",
              "      <td>328.77</td>\n",
              "      <td>323.68</td>\n",
              "      <td>648.24</td>\n",
              "      <td>5,405,900</td>\n",
              "    </tr>\n",
              "    <tr>\n",
              "      <th>4</th>\n",
              "      <td>1/9/2012</td>\n",
              "      <td>322.04</td>\n",
              "      <td>322.29</td>\n",
              "      <td>309.46</td>\n",
              "      <td>620.76</td>\n",
              "      <td>11,688,800</td>\n",
              "    </tr>\n",
              "  </tbody>\n",
              "</table>\n",
              "</div>"
            ],
            "text/plain": [
              "       Date    Open    High     Low   Close      Volume\n",
              "0  1/3/2012  325.25  332.83  324.97  663.59   7,380,500\n",
              "1  1/4/2012  331.27  333.87  329.08  666.45   5,749,400\n",
              "2  1/5/2012  329.83  330.75  326.89  657.21   6,590,300\n",
              "3  1/6/2012  328.34  328.77  323.68  648.24   5,405,900\n",
              "4  1/9/2012  322.04  322.29  309.46  620.76  11,688,800"
            ]
          },
          "metadata": {
            "tags": []
          },
          "execution_count": 2
        }
      ]
    },
    {
      "cell_type": "code",
      "metadata": {
        "colab": {
          "base_uri": "https://localhost:8080/"
        },
        "id": "yNhrIeCh1nCL",
        "outputId": "5409816f-01a7-4da7-f6cf-c85f7ff67a2f"
      },
      "source": [
        "data.info()"
      ],
      "execution_count": null,
      "outputs": [
        {
          "output_type": "stream",
          "text": [
            "<class 'pandas.core.frame.DataFrame'>\n",
            "RangeIndex: 1258 entries, 0 to 1257\n",
            "Data columns (total 6 columns):\n",
            " #   Column  Non-Null Count  Dtype  \n",
            "---  ------  --------------  -----  \n",
            " 0   Date    1258 non-null   object \n",
            " 1   Open    1258 non-null   float64\n",
            " 2   High    1258 non-null   float64\n",
            " 3   Low     1258 non-null   float64\n",
            " 4   Close   1258 non-null   object \n",
            " 5   Volume  1258 non-null   object \n",
            "dtypes: float64(3), object(3)\n",
            "memory usage: 59.1+ KB\n"
          ],
          "name": "stdout"
        }
      ]
    },
    {
      "cell_type": "code",
      "metadata": {
        "id": "pIY4sOx91nCM"
      },
      "source": [
        "data[\"Close\"]=pd.to_numeric(data.Close,errors='coerce')\n",
        "data = data.dropna()\n",
        "trainData = data.iloc[:,4:5].values"
      ],
      "execution_count": null,
      "outputs": []
    },
    {
      "cell_type": "code",
      "metadata": {
        "colab": {
          "base_uri": "https://localhost:8080/"
        },
        "id": "lr31kJOj1nCM",
        "outputId": "9437c585-91bf-45b9-c0c8-f3d5346144fa"
      },
      "source": [
        "data.info()"
      ],
      "execution_count": null,
      "outputs": [
        {
          "output_type": "stream",
          "text": [
            "<class 'pandas.core.frame.DataFrame'>\n",
            "Int64Index: 1149 entries, 0 to 1257\n",
            "Data columns (total 6 columns):\n",
            " #   Column  Non-Null Count  Dtype  \n",
            "---  ------  --------------  -----  \n",
            " 0   Date    1149 non-null   object \n",
            " 1   Open    1149 non-null   float64\n",
            " 2   High    1149 non-null   float64\n",
            " 3   Low     1149 non-null   float64\n",
            " 4   Close   1149 non-null   float64\n",
            " 5   Volume  1149 non-null   object \n",
            "dtypes: float64(4), object(2)\n",
            "memory usage: 62.8+ KB\n"
          ],
          "name": "stdout"
        }
      ]
    },
    {
      "cell_type": "code",
      "metadata": {
        "colab": {
          "base_uri": "https://localhost:8080/"
        },
        "id": "H_UjUues1nCN",
        "outputId": "029b2748-5f44-4207-f4a5-fc2970946856"
      },
      "source": [
        "sc = MinMaxScaler(feature_range=(0,1))\n",
        "trainData = sc.fit_transform(trainData)\n",
        "trainData.shape"
      ],
      "execution_count": null,
      "outputs": [
        {
          "output_type": "execute_result",
          "data": {
            "text/plain": [
              "(1149, 1)"
            ]
          },
          "metadata": {
            "tags": []
          },
          "execution_count": 8
        }
      ]
    },
    {
      "cell_type": "code",
      "metadata": {
        "id": "6Gilal1j1nCN"
      },
      "source": [
        "X_train = []\n",
        "y_train = []\n",
        "\n",
        "for i in range (60,1149): #60 : timestep // 1149 : length of the data\n",
        "    X_train.append(trainData[i-60:i,0]) \n",
        "    y_train.append(trainData[i,0])\n",
        "\n",
        "X_train,y_train = np.array(X_train),np.array(y_train)"
      ],
      "execution_count": null,
      "outputs": []
    },
    {
      "cell_type": "code",
      "metadata": {
        "colab": {
          "base_uri": "https://localhost:8080/"
        },
        "id": "vl8TNYwe1nCN",
        "outputId": "b25b68ed-25fa-4439-f982-b0eee5003c07"
      },
      "source": [
        "X_train = np.reshape(X_train,(X_train.shape[0],X_train.shape[1],1)) #adding the batch_size axis\n",
        "X_train.shape"
      ],
      "execution_count": null,
      "outputs": [
        {
          "output_type": "execute_result",
          "data": {
            "text/plain": [
              "(1089, 60, 1)"
            ]
          },
          "metadata": {
            "tags": []
          },
          "execution_count": 10
        }
      ]
    },
    {
      "cell_type": "code",
      "metadata": {
        "id": "LQc9RfRV1nCO"
      },
      "source": [
        "model = Sequential()\n",
        "\n",
        "model.add(LSTM(units=100, return_sequences = True, input_shape =(X_train.shape[1],1)))\n",
        "model.add(Dropout(0.2))\n",
        "\n",
        "model.add(LSTM(units=100, return_sequences = True))\n",
        "model.add(Dropout(0.2))\n",
        "\n",
        "model.add(LSTM(units=100, return_sequences = True))\n",
        "model.add(Dropout(0.2))\n",
        "\n",
        "model.add(LSTM(units=100, return_sequences = False))\n",
        "model.add(Dropout(0.2))\n",
        "\n",
        "model.add(Dense(units =1))\n",
        "model.compile(optimizer='adam',loss=\"mean_squared_error\")"
      ],
      "execution_count": null,
      "outputs": []
    },
    {
      "cell_type": "code",
      "metadata": {
        "colab": {
          "base_uri": "https://localhost:8080/"
        },
        "id": "wuVcbxs-1nCO",
        "outputId": "88ef5525-54a3-4ce3-ba98-4e49ca5c549e"
      },
      "source": [
        "hist = model.fit(X_train, y_train, epochs = 20, batch_size = 32, verbose=2)"
      ],
      "execution_count": null,
      "outputs": [
        {
          "output_type": "stream",
          "text": [
            "Epoch 1/20\n",
            "35/35 - 29s - loss: 0.0421\n",
            "Epoch 2/20\n",
            "35/35 - 6s - loss: 0.0120\n",
            "Epoch 3/20\n",
            "35/35 - 6s - loss: 0.0104\n",
            "Epoch 4/20\n",
            "35/35 - 6s - loss: 0.0392\n",
            "Epoch 5/20\n",
            "35/35 - 6s - loss: 0.0128\n",
            "Epoch 6/20\n",
            "35/35 - 6s - loss: 0.0082\n",
            "Epoch 7/20\n",
            "35/35 - 6s - loss: 0.0081\n",
            "Epoch 8/20\n",
            "35/35 - 6s - loss: 0.0075\n",
            "Epoch 9/20\n",
            "35/35 - 7s - loss: 0.0083\n",
            "Epoch 10/20\n",
            "35/35 - 8s - loss: 0.0067\n",
            "Epoch 11/20\n",
            "35/35 - 6s - loss: 0.0062\n",
            "Epoch 12/20\n",
            "35/35 - 7s - loss: 0.0067\n",
            "Epoch 13/20\n",
            "35/35 - 6s - loss: 0.0062\n",
            "Epoch 14/20\n",
            "35/35 - 6s - loss: 0.0060\n",
            "Epoch 15/20\n",
            "35/35 - 6s - loss: 0.0056\n",
            "Epoch 16/20\n",
            "35/35 - 6s - loss: 0.0057\n",
            "Epoch 17/20\n",
            "35/35 - 6s - loss: 0.0057\n",
            "Epoch 18/20\n",
            "35/35 - 6s - loss: 0.0053\n",
            "Epoch 19/20\n",
            "35/35 - 6s - loss: 0.0054\n",
            "Epoch 20/20\n",
            "35/35 - 6s - loss: 0.0052\n"
          ],
          "name": "stdout"
        }
      ]
    },
    {
      "cell_type": "code",
      "metadata": {
        "colab": {
          "base_uri": "https://localhost:8080/",
          "height": 295
        },
        "id": "zJPQC8yF1nCO",
        "outputId": "a53bf9ad-c84e-4f81-9445-1ad687fea592"
      },
      "source": [
        "plt.plot(hist.history['loss'])\n",
        "plt.title('Training model loss')\n",
        "plt.ylabel('loss')\n",
        "plt.xlabel('epoch')\n",
        "plt.legend(['train'], loc='upper left')\n",
        "plt.show()"
      ],
      "execution_count": null,
      "outputs": [
        {
          "output_type": "display_data",
          "data": {
            "image/png": "[encoded data removed]",
            "text/plain": [
              "<Figure size 432x288 with 1 Axes>"
            ]
          },
          "metadata": {
            "tags": [],
            "needs_background": "light"
          }
        }
      ]
    },
    {
      "cell_type": "code",
      "metadata": {
        "colab": {
          "base_uri": "https://localhost:8080/"
        },
        "id": "InrN2n8V1nCP",
        "outputId": "0c7eef90-6c01-4275-c09f-fdd4740c94c8"
      },
      "source": [
        "testData = pd.read_csv('/content/gdrive/MyDrive/DatasetPratik/Google_test_data.csv')\n",
        "testData[\"Close\"]=pd.to_numeric(testData.Close,errors='coerce')\n",
        "testData = testData.dropna()\n",
        "testData = testData.iloc[:,4:5]\n",
        "y_test = testData.iloc[60:,0:].values \n",
        "#input array for the model\n",
        "inputClosing = testData.iloc[:,0:].values \n",
        "inputClosing_scaled = sc.transform(inputClosing)\n",
        "inputClosing_scaled.shape\n",
        "X_test = []\n",
        "length = len(testData)\n",
        "timestep = 60\n",
        "for i in range(timestep,length):  \n",
        "    X_test.append(inputClosing_scaled[i-timestep:i,0])\n",
        "X_test = np.array(X_test)\n",
        "X_test = np.reshape(X_test,(X_test.shape[0],X_test.shape[1],1))\n",
        "X_test.shape"
      ],
      "execution_count": null,
      "outputs": [
        {
          "output_type": "execute_result",
          "data": {
            "text/plain": [
              "(192, 60, 1)"
            ]
          },
          "metadata": {
            "tags": []
          },
          "execution_count": 12
        }
      ]
    },
    {
      "cell_type": "code",
      "metadata": {
        "colab": {
          "base_uri": "https://localhost:8080/"
        },
        "id": "xjb1WF3j1nCP",
        "outputId": "eae85b39-a44f-4151-d013-a9e43c741844"
      },
      "source": [
        "y_pred = model.predict(X_test)\n",
        "y_pred"
      ],
      "execution_count": null,
      "outputs": [
        {
          "output_type": "execute_result",
          "data": {
            "text/plain": [
              "array([[-0.2360283 ],\n",
              "       [-0.2360203 ],\n",
              "       [-0.23601334],\n",
              "       [-0.23600757],\n",
              "       [-0.23600267],\n",
              "       [-0.23599829],\n",
              "       [-0.23599423],\n",
              "       [-0.23599043],\n",
              "       [-0.23598692],\n",
              "       [-0.23598382],\n",
              "       [-0.23598053],\n",
              "       [-0.2359769 ],\n",
              "       [-0.23597321],\n",
              "       [-0.2359693 ],\n",
              "       [-0.2359654 ],\n",
              "       [-0.23596174],\n",
              "       [-0.23595886],\n",
              "       [-0.23595722],\n",
              "       [-0.23595689],\n",
              "       [-0.23595814],\n",
              "       [-0.23596026],\n",
              "       [-0.23596294],\n",
              "       [-0.23596574],\n",
              "       [-0.23596811],\n",
              "       [-0.23596998],\n",
              "       [-0.23597138],\n",
              "       [-0.23597237],\n",
              "       [-0.23597273],\n",
              "       [-0.23597226],\n",
              "       [-0.23597102],\n",
              "       [-0.23596893],\n",
              "       [-0.235966  ],\n",
              "       [-0.23596175],\n",
              "       [-0.23595613],\n",
              "       [-0.23595016],\n",
              "       [-0.23594436],\n",
              "       [-0.23593903],\n",
              "       [-0.23593439],\n",
              "       [-0.23593079],\n",
              "       [-0.23592791],\n",
              "       [-0.23592624],\n",
              "       [-0.23592602],\n",
              "       [-0.235927  ],\n",
              "       [-0.23592924],\n",
              "       [-0.23593248],\n",
              "       [-0.23593648],\n",
              "       [-0.23594059],\n",
              "       [-0.23594496],\n",
              "       [-0.23594959],\n",
              "       [-0.23595443],\n",
              "       [-0.23595962],\n",
              "       [-0.2359648 ],\n",
              "       [-0.2359698 ],\n",
              "       [-0.23597474],\n",
              "       [-0.23597942],\n",
              "       [-0.23598373],\n",
              "       [-0.23598737],\n",
              "       [-0.23599069],\n",
              "       [-0.23599412],\n",
              "       [-0.2359977 ],\n",
              "       [-0.23600173],\n",
              "       [-0.2360067 ],\n",
              "       [-0.23601222],\n",
              "       [-0.23601796],\n",
              "       [-0.23602358],\n",
              "       [-0.23602878],\n",
              "       [-0.23603365],\n",
              "       [-0.23603816],\n",
              "       [-0.2360424 ],\n",
              "       [-0.23604627],\n",
              "       [-0.23604979],\n",
              "       [-0.23605305],\n",
              "       [-0.23605578],\n",
              "       [-0.236058  ],\n",
              "       [-0.2360599 ],\n",
              "       [-0.23606142],\n",
              "       [-0.23606278],\n",
              "       [-0.23606388],\n",
              "       [-0.2360653 ],\n",
              "       [-0.23606706],\n",
              "       [-0.23606943],\n",
              "       [-0.23607257],\n",
              "       [-0.23607618],\n",
              "       [-0.23608017],\n",
              "       [-0.23608479],\n",
              "       [-0.23609008],\n",
              "       [-0.23609619],\n",
              "       [-0.23610273],\n",
              "       [-0.23610964],\n",
              "       [-0.23611684],\n",
              "       [-0.23612428],\n",
              "       [-0.23613209],\n",
              "       [-0.2361402 ],\n",
              "       [-0.23614848],\n",
              "       [-0.23615654],\n",
              "       [-0.23616423],\n",
              "       [-0.23617104],\n",
              "       [-0.2361767 ],\n",
              "       [-0.2361812 ],\n",
              "       [-0.23618461],\n",
              "       [-0.23618734],\n",
              "       [-0.2361896 ],\n",
              "       [-0.23619172],\n",
              "       [-0.23619379],\n",
              "       [-0.23619592],\n",
              "       [-0.23619804],\n",
              "       [-0.2362001 ],\n",
              "       [-0.23620221],\n",
              "       [-0.23620443],\n",
              "       [-0.23620671],\n",
              "       [-0.23620921],\n",
              "       [-0.23621203],\n",
              "       [-0.23621528],\n",
              "       [-0.23621893],\n",
              "       [-0.2362233 ],\n",
              "       [-0.23622824],\n",
              "       [-0.2362337 ],\n",
              "       [-0.2362397 ],\n",
              "       [-0.23624638],\n",
              "       [-0.23625252],\n",
              "       [-0.23625731],\n",
              "       [-0.2362604 ],\n",
              "       [-0.23626156],\n",
              "       [-0.23626107],\n",
              "       [-0.23625869],\n",
              "       [-0.23625469],\n",
              "       [-0.23624937],\n",
              "       [-0.23624302],\n",
              "       [-0.23623566],\n",
              "       [-0.23622723],\n",
              "       [-0.2362184 ],\n",
              "       [-0.23620975],\n",
              "       [-0.23620136],\n",
              "       [-0.23619321],\n",
              "       [-0.23618546],\n",
              "       [-0.23617838],\n",
              "       [-0.23617178],\n",
              "       [-0.2361654 ],\n",
              "       [-0.23615937],\n",
              "       [-0.23615341],\n",
              "       [-0.23614737],\n",
              "       [-0.23614113],\n",
              "       [-0.23613377],\n",
              "       [-0.23612508],\n",
              "       [-0.23611528],\n",
              "       [-0.23610419],\n",
              "       [-0.23609248],\n",
              "       [-0.23608059],\n",
              "       [-0.23606908],\n",
              "       [-0.23605828],\n",
              "       [-0.23604858],\n",
              "       [-0.23604017],\n",
              "       [-0.2360333 ],\n",
              "       [-0.23602791],\n",
              "       [-0.23602398],\n",
              "       [-0.23602161],\n",
              "       [-0.23602068],\n",
              "       [-0.23602103],\n",
              "       [-0.23602207],\n",
              "       [-0.23602343],\n",
              "       [-0.23602471],\n",
              "       [-0.2360257 ],\n",
              "       [-0.23602651],\n",
              "       [-0.23602732],\n",
              "       [-0.2360283 ],\n",
              "       [-0.23602982],\n",
              "       [-0.23603179],\n",
              "       [-0.2360343 ],\n",
              "       [-0.23603754],\n",
              "       [-0.2360415 ],\n",
              "       [-0.23604608],\n",
              "       [-0.23605128],\n",
              "       [-0.23605697],\n",
              "       [-0.23606299],\n",
              "       [-0.23606911],\n",
              "       [-0.23607494],\n",
              "       [-0.23608047],\n",
              "       [-0.23608561],\n",
              "       [-0.2360902 ],\n",
              "       [-0.2360941 ],\n",
              "       [-0.2360987 ],\n",
              "       [-0.23610443],\n",
              "       [-0.23611116],\n",
              "       [-0.23611903],\n",
              "       [-0.23612782],\n",
              "       [-0.23613708],\n",
              "       [-0.23614588],\n",
              "       [-0.2361539 ],\n",
              "       [-0.23616095],\n",
              "       [-0.23616698],\n",
              "       [-0.23617205],\n",
              "       [-0.23617607]], dtype=float32)"
            ]
          },
          "metadata": {
            "tags": []
          },
          "execution_count": 13
        }
      ]
    },
    {
      "cell_type": "code",
      "metadata": {
        "id": "pRbWq8UT1nCQ"
      },
      "source": [
        "predicted_price = sc.inverse_transform(y_pred)"
      ],
      "execution_count": null,
      "outputs": []
    },
    {
      "cell_type": "code",
      "metadata": {
        "colab": {
          "base_uri": "https://localhost:8080/",
          "height": 295
        },
        "id": "cRDD7iqR1nCQ",
        "outputId": "7d9688cd-2dd1-4dc2-a9d8-5769910b589a"
      },
      "source": [
        "plt.plot(y_test, color = 'red', label = 'Actual Stock Price')\n",
        "plt.plot(predicted_price, color = 'green', label = 'Predicted Stock Price')\n",
        "plt.title('Google stock price prediction')\n",
        "plt.xlabel('Time')\n",
        "plt.ylabel('Stock Price')\n",
        "plt.legend()\n",
        "plt.show()"
      ],
      "execution_count": null,
      "outputs": [
        {
          "output_type": "display_data",
          "data": {
            "image/png": "[encoded data removed]",
            "text/plain": [
              "<Figure size 432x288 with 1 Axes>"
            ]
          },
          "metadata": {
            "tags": [],
            "needs_background": "light"
          }
        }
      ]
    }
  ]
}